{
 "cells": [
  {
   "cell_type": "code",
   "execution_count": 1,
   "id": "fe0460a0-87f5-4980-aff9-9b39d4eb1ac0",
   "metadata": {},
   "outputs": [],
   "source": [
    "import tkinter as tk\n",
    "from tkinter import Entry, Label, Button, StringVar\n",
    "import qrcode\n",
    "\n",
    "class QRCodeGeneratorApp:\n",
    "    def __init__(self, master):\n",
    "        self.master = master\n",
    "        master.title(\"QR Code Generator\")\n",
    "        master.geometry(\"500x300\")  \n",
    "\n",
    "        self.master.configure(bg='#F0F0F0')\n",
    "        self.label = Label(master, text=\"Enter the link here :\", font=(\"Arial\", 14), bg='#F0F0F0')\n",
    "        self.label.pack(pady=10)\n",
    "\n",
    "        self.entry = Entry(master, width=40, font=(\"Arial\", 12))\n",
    "        self.entry.pack(pady=10)\n",
    "\n",
    "        self.filename_label = Label(master, text=\"Enter QR code filename:\", font=(\"Arial\", 14), bg='#F0F0F0')\n",
    "        self.filename_label.pack(pady=10)\n",
    "\n",
    "        self.filename_entry = Entry(master, width=40, font=(\"Arial\", 12))\n",
    "        self.filename_entry.pack(pady=10)\n",
    "\n",
    "        self.generate_button = Button(master, text=\"Generate QR Code\", command=self.generate_qr_code, font=(\"Arial\", 14), bg='#4CAF50', fg='white')\n",
    "        self.generate_button.pack(pady=20)\n",
    "\n",
    "    def generate_qr_code(self):\n",
    "        data_to_encode = self.entry.get()\n",
    "        filename = self.filename_entry.get() or \"generated_qrcode\"  \n",
    "\n",
    "        if data_to_encode:\n",
    "            qr = qrcode.QRCode(\n",
    "                version=1,\n",
    "                error_correction=qrcode.constants.ERROR_CORRECT_L,\n",
    "                box_size=10,\n",
    "                border=4,\n",
    "            )\n",
    "            qr.add_data(data_to_encode)\n",
    "            qr.make(fit=True)\n",
    "\n",
    "            img = qr.make_image(fill_color=\"#4CAF50\", back_color=\"white\")\n",
    "\n",
    "            # Save the image of qr\n",
    "            img.save(f\"{filename}.png\")\n",
    "\n",
    "            result_label = Label(self.master, text=f\"QR code generated and saved as '{filename}.png'\", font=(\"Arial\", 12), bg='#F0F0F0')\n",
    "            result_label.pack()\n",
    "\n",
    "if __name__ == \"__main__\":\n",
    "    root = tk.Tk()\n",
    "    app = QRCodeGeneratorApp(root)\n",
    "    root.mainloop()\n"
   ]
  },
  {
   "cell_type": "code",
   "execution_count": null,
   "id": "f0ec0790-57d4-44a5-87ef-5d188587ad22",
   "metadata": {},
   "outputs": [],
   "source": []
  }
 ],
 "metadata": {
  "kernelspec": {
   "display_name": "Python 3 (ipykernel)",
   "language": "python",
   "name": "python3"
  },
  "language_info": {
   "codemirror_mode": {
    "name": "ipython",
    "version": 3
   },
   "file_extension": ".py",
   "mimetype": "text/x-python",
   "name": "python",
   "nbconvert_exporter": "python",
   "pygments_lexer": "ipython3",
   "version": "3.12.0"
  }
 },
 "nbformat": 4,
 "nbformat_minor": 5
}
